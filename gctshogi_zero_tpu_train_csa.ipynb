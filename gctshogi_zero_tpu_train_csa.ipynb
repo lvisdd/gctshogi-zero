{
  "nbformat": 4,
  "nbformat_minor": 0,
  "metadata": {
    "colab": {
      "name": "gctshogi-zero-tpu-train-csa.ipynb",
      "version": "0.3.2",
      "provenance": [],
      "collapsed_sections": [],
      "include_colab_link": true
    },
    "kernelspec": {
      "name": "python3",
      "display_name": "Python 3"
    },
    "accelerator": "TPU"
  },
  "cells": [
    {
      "cell_type": "markdown",
      "metadata": {
        "id": "view-in-github",
        "colab_type": "text"
      },
      "source": [
        "<a href=\"https://colab.research.google.com/github/lvisdd/gctshogi-zero/blob/master/gctshogi_zero_tpu_train_csa.ipynb\" target=\"_parent\"><img src=\"https://colab.research.google.com/assets/colab-badge.svg\" alt=\"Open In Colab\"/></a>"
      ]
    },
    {
      "cell_type": "code",
      "metadata": {
        "id": "WsgOnHyd468d",
        "colab_type": "code",
        "colab": {}
      },
      "source": [
        "# restart (or reset) your virtual machine\n",
        "#!kill -9 -1"
      ],
      "execution_count": 0,
      "outputs": []
    },
    {
      "cell_type": "code",
      "metadata": {
        "id": "ZgPsiswqtq8w",
        "colab_type": "code",
        "outputId": "807abcbe-ab2a-4d14-c892-e9a66d917e8f",
        "colab": {
          "base_uri": "https://localhost:8080/",
          "height": 125
        }
      },
      "source": [
        "# Mount Google Drive\n",
        "# [Go to this URL in a browser: URL] -> Authorization Code\n",
        "# [Enter your authorization code:]\n",
        "\n",
        "from google.colab import drive\n",
        "drive.mount('/content/drive')\n"
      ],
      "execution_count": 0,
      "outputs": [
        {
          "output_type": "stream",
          "text": [
            "Go to this URL in a browser: https://accounts.google.com/o/oauth2/auth?client_id=947318989803-6bn6qk8qdgf4n4g3pfee6491hc0brc4i.apps.googleusercontent.com&redirect_uri=urn%3Aietf%3Awg%3Aoauth%3A2.0%3Aoob&scope=email%20https%3A%2F%2Fwww.googleapis.com%2Fauth%2Fdocs.test%20https%3A%2F%2Fwww.googleapis.com%2Fauth%2Fdrive%20https%3A%2F%2Fwww.googleapis.com%2Fauth%2Fdrive.photos.readonly%20https%3A%2F%2Fwww.googleapis.com%2Fauth%2Fpeopleapi.readonly&response_type=code\n",
            "\n",
            "Enter your authorization code:\n",
            "··········\n",
            "Mounted at /content/drive\n"
          ],
          "name": "stdout"
        }
      ]
    },
    {
      "cell_type": "code",
      "metadata": {
        "id": "4zTaoTlgXcY1",
        "colab_type": "code",
        "outputId": "d0f6bf02-9ff4-4223-fa51-4e33c6b10509",
        "colab": {
          "base_uri": "https://localhost:8080/",
          "height": 34
        }
      },
      "source": [
        "!python --version"
      ],
      "execution_count": 0,
      "outputs": [
        {
          "output_type": "stream",
          "text": [
            "Python 3.6.7\n"
          ],
          "name": "stdout"
        }
      ]
    },
    {
      "cell_type": "code",
      "metadata": {
        "id": "DVD71tdtfSRD",
        "colab_type": "code",
        "outputId": "8493ebf2-c638-4cfa-a172-217267bccaa1",
        "colab": {
          "base_uri": "https://localhost:8080/",
          "height": 6423
        }
      },
      "source": [
        "!pip list"
      ],
      "execution_count": 0,
      "outputs": [
        {
          "output_type": "stream",
          "text": [
            "Package                  Version              \n",
            "------------------------ ---------------------\n",
            "absl-py                  0.7.1                \n",
            "alabaster                0.7.12               \n",
            "albumentations           0.1.12               \n",
            "altair                   3.0.0                \n",
            "astor                    0.7.1                \n",
            "astropy                  3.0.5                \n",
            "atari-py                 0.1.7                \n",
            "atomicwrites             1.3.0                \n",
            "attrs                    19.1.0               \n",
            "audioread                2.1.6                \n",
            "autograd                 1.2                  \n",
            "Babel                    2.6.0                \n",
            "backcall                 0.1.0                \n",
            "backports.tempfile       1.0                  \n",
            "backports.weakref        1.0.post1            \n",
            "beautifulsoup4           4.6.3                \n",
            "bleach                   3.1.0                \n",
            "bokeh                    1.0.4                \n",
            "boto                     2.49.0               \n",
            "boto3                    1.9.137              \n",
            "botocore                 1.12.137             \n",
            "Bottleneck               1.2.1                \n",
            "branca                   0.3.1                \n",
            "bs4                      0.0.1                \n",
            "bz2file                  0.98                 \n",
            "cachetools               3.1.0                \n",
            "certifi                  2019.3.9             \n",
            "cffi                     1.12.3               \n",
            "chainer                  5.4.0                \n",
            "chardet                  3.0.4                \n",
            "Click                    7.0                  \n",
            "cloudpickle              0.6.1                \n",
            "cmake                    3.12.0               \n",
            "colorlover               0.3.0                \n",
            "community                1.0.0b1              \n",
            "contextlib2              0.5.5                \n",
            "convertdate              2.1.3                \n",
            "coverage                 3.7.1                \n",
            "coveralls                0.5                  \n",
            "crcmod                   1.7                  \n",
            "cufflinks                0.14.6               \n",
            "cvxopt                   1.2.3                \n",
            "cvxpy                    1.0.15               \n",
            "cycler                   0.10.0               \n",
            "cymem                    2.0.2                \n",
            "Cython                   0.29.7               \n",
            "cytoolz                  0.9.0.1              \n",
            "daft                     0.0.4                \n",
            "dask                     1.1.5                \n",
            "dataclasses              0.6                  \n",
            "datascience              0.10.6               \n",
            "decorator                4.4.0                \n",
            "defusedxml               0.6.0                \n",
            "dill                     0.2.9                \n",
            "distributed              1.25.3               \n",
            "Django                   2.2                  \n",
            "dlib                     19.16.0              \n",
            "dm-sonnet                1.23                 \n",
            "docopt                   0.6.2                \n",
            "docutils                 0.14                 \n",
            "dopamine-rl              1.0.5                \n",
            "easydict                 1.9                  \n",
            "ecos                     2.0.7.post1          \n",
            "editdistance             0.5.3                \n",
            "en-core-web-sm           2.0.0                \n",
            "entrypoints              0.3                  \n",
            "enum34                   1.1.6                \n",
            "ephem                    3.7.6.0              \n",
            "et-xmlfile               1.0.1                \n",
            "fa2                      0.3.5                \n",
            "fancyimpute              0.4.3                \n",
            "fastai                   1.0.52               \n",
            "fastcache                1.0.2                \n",
            "fastdtw                  0.3.2                \n",
            "fastprogress             0.1.21               \n",
            "fastrlock                0.4                  \n",
            "fbprophet                0.4.post2            \n",
            "featuretools             0.4.1                \n",
            "filelock                 3.0.10               \n",
            "fix-yahoo-finance        0.0.22               \n",
            "Flask                    1.0.2                \n",
            "folium                   0.8.3                \n",
            "future                   0.16.0               \n",
            "gast                     0.2.2                \n",
            "GDAL                     2.2.2                \n",
            "gdown                    3.6.4                \n",
            "gensim                   3.6.0                \n",
            "geographiclib            1.49                 \n",
            "geopy                    1.17.0               \n",
            "gevent                   1.4.0                \n",
            "gin-config               0.1.4                \n",
            "glob2                    0.6                  \n",
            "google                   2.0.2                \n",
            "google-api-core          1.9.0                \n",
            "google-api-python-client 1.6.7                \n",
            "google-auth              1.4.2                \n",
            "google-auth-httplib2     0.0.3                \n",
            "google-auth-oauthlib     0.3.0                \n",
            "google-cloud-bigquery    1.8.1                \n",
            "google-cloud-core        0.29.1               \n",
            "google-cloud-language    1.0.2                \n",
            "google-cloud-storage     1.13.2               \n",
            "google-cloud-translate   1.3.3                \n",
            "google-colab             1.0.0                \n",
            "google-resumable-media   0.3.2                \n",
            "googleapis-common-protos 1.5.9                \n",
            "googledrivedownloader    0.3                  \n",
            "graph-nets               1.0.3                \n",
            "graphviz                 0.10.1               \n",
            "greenlet                 0.4.15               \n",
            "grpcio                   1.15.0               \n",
            "gspread                  3.0.1                \n",
            "gspread-dataframe        3.0.2                \n",
            "gunicorn                 19.9.0               \n",
            "gym                      0.10.11              \n",
            "h5py                     2.8.0                \n",
            "HeapDict                 1.0.0                \n",
            "holidays                 0.9.10               \n",
            "html5lib                 1.0.1                \n",
            "httpimport               0.5.16               \n",
            "httplib2                 0.11.3               \n",
            "humanize                 0.5.1                \n",
            "hyperopt                 0.1.2                \n",
            "ideep4py                 2.0.0.post3          \n",
            "idna                     2.8                  \n",
            "image                    1.5.27               \n",
            "imageio                  2.4.1                \n",
            "imagesize                1.1.0                \n",
            "imbalanced-learn         0.4.3                \n",
            "imblearn                 0.0                  \n",
            "imgaug                   0.2.8                \n",
            "imutils                  0.5.2                \n",
            "inflect                  2.1.0                \n",
            "intel-openmp             2019.0               \n",
            "intervaltree             2.1.0                \n",
            "ipykernel                4.6.1                \n",
            "ipython                  5.5.0                \n",
            "ipython-genutils         0.2.0                \n",
            "ipython-sql              0.3.9                \n",
            "ipywidgets               7.4.2                \n",
            "itsdangerous             1.1.0                \n",
            "jdcal                    1.4.1                \n",
            "jedi                     0.13.3               \n",
            "jieba                    0.39                 \n",
            "Jinja2                   2.10.1               \n",
            "jmespath                 0.9.4                \n",
            "joblib                   0.12.5               \n",
            "jpeg4py                  0.1.4                \n",
            "jsonschema               2.6.0                \n",
            "jupyter                  1.0.0                \n",
            "jupyter-client           5.2.4                \n",
            "jupyter-console          6.0.0                \n",
            "jupyter-core             4.4.0                \n",
            "kaggle                   1.5.3                \n",
            "kapre                    0.1.3.1              \n",
            "Keras                    2.2.4                \n",
            "Keras-Applications       1.0.7                \n",
            "Keras-Preprocessing      1.0.9                \n",
            "keras-vis                0.4.1                \n",
            "kiwisolver               1.1.0                \n",
            "knnimpute                0.1.0                \n",
            "librosa                  0.6.3                \n",
            "lightgbm                 2.2.3                \n",
            "llvmlite                 0.28.0               \n",
            "lmdb                     0.94                 \n",
            "lucid                    0.3.8                \n",
            "lunardate                0.2.0                \n",
            "lxml                     4.2.6                \n",
            "magenta                  0.3.19               \n",
            "Markdown                 3.1                  \n",
            "MarkupSafe               1.1.1                \n",
            "matplotlib               3.0.3                \n",
            "matplotlib-venn          0.11.5               \n",
            "mesh-tensorflow          0.0.5                \n",
            "mido                     1.2.6                \n",
            "mir-eval                 0.5                  \n",
            "missingno                0.4.1                \n",
            "mistune                  0.8.4                \n",
            "mkl                      2019.0               \n",
            "mlxtend                  0.14.0               \n",
            "mock                     2.0.0                \n",
            "more-itertools           7.0.0                \n",
            "moviepy                  0.2.3.5              \n",
            "mpi4py                   3.0.1                \n",
            "mpmath                   1.1.0                \n",
            "msgpack                  0.5.6                \n",
            "msgpack-numpy            0.4.3.2              \n",
            "multiprocess             0.70.7               \n",
            "multitasking             0.0.7                \n",
            "murmurhash               1.0.2                \n",
            "music21                  5.5.0                \n",
            "natsort                  5.5.0                \n",
            "nbconvert                5.5.0                \n",
            "nbformat                 4.4.0                \n",
            "networkx                 2.3                  \n",
            "nibabel                  2.3.3                \n",
            "nltk                     3.2.5                \n",
            "nose                     1.3.7                \n",
            "notebook                 5.2.2                \n",
            "np-utils                 0.5.10.0             \n",
            "numba                    0.40.1               \n",
            "numexpr                  2.6.9                \n",
            "numpy                    1.16.3               \n",
            "nvidia-ml-py3            7.352.0              \n",
            "oauth2client             4.1.3                \n",
            "oauthlib                 3.0.1                \n",
            "okgrade                  0.4.3                \n",
            "olefile                  0.46                 \n",
            "opencv-contrib-python    3.4.3.18             \n",
            "opencv-python            3.4.5.20             \n",
            "openpyxl                 2.5.9                \n",
            "osqp                     0.5.0                \n",
            "packaging                19.0                 \n",
            "pandas                   0.24.2               \n",
            "pandas-datareader        0.7.0                \n",
            "pandas-gbq               0.4.1                \n",
            "pandas-profiling         1.4.1                \n",
            "pandocfilters            1.4.2                \n",
            "parso                    0.4.0                \n",
            "pathlib                  1.0.1                \n",
            "patsy                    0.5.1                \n",
            "pbr                      5.2.0                \n",
            "pexpect                  4.7.0                \n",
            "pickleshare              0.7.5                \n",
            "Pillow                   4.3.0                \n",
            "pip                      19.1                 \n",
            "pip-tools                3.6.1                \n",
            "plac                     0.9.6                \n",
            "plotly                   3.6.1                \n",
            "pluggy                   0.7.1                \n",
            "portpicker               1.2.0                \n",
            "prefetch-generator       1.0.1                \n",
            "preshed                  2.0.1                \n",
            "pretty-midi              0.2.8                \n",
            "prettytable              0.7.2                \n",
            "progressbar2             3.38.0               \n",
            "prometheus-client        0.6.0                \n",
            "promise                  2.2.1                \n",
            "prompt-toolkit           1.0.16               \n",
            "protobuf                 3.7.1                \n",
            "psutil                   5.4.8                \n",
            "psycopg2                 2.7.6.1              \n",
            "ptyprocess               0.6.0                \n",
            "py                       1.8.0                \n",
            "pyasn1                   0.4.5                \n",
            "pyasn1-modules           0.2.5                \n",
            "pycocotools              2.0.0                \n",
            "pycparser                2.19                 \n",
            "pydot                    1.3.0                \n",
            "pydot-ng                 2.0.0                \n",
            "pydotplus                2.0.2                \n",
            "pyemd                    0.5.1                \n",
            "pyglet                   1.3.2                \n",
            "Pygments                 2.1.3                \n",
            "pygobject                3.26.1               \n",
            "pymc3                    3.6                  \n",
            "pymongo                  3.8.0                \n",
            "pymystem3                0.2.0                \n",
            "PyOpenGL                 3.1.0                \n",
            "pyparsing                2.4.0                \n",
            "pyrsistent               0.15.1               \n",
            "pysndfile                1.3.2                \n",
            "PySocks                  1.6.8                \n",
            "pystan                   2.19.0.0             \n",
            "pytest                   3.6.4                \n",
            "python-apt               1.6.3+ubuntu1        \n",
            "python-chess             0.23.11              \n",
            "python-dateutil          2.5.3                \n",
            "python-louvain           0.13                 \n",
            "python-rtmidi            1.3.0                \n",
            "python-slugify           3.0.2                \n",
            "python-utils             2.3.0                \n",
            "pytz                     2018.9               \n",
            "PyWavelets               1.0.3                \n",
            "PyYAML                   3.13                 \n",
            "pyzmq                    17.0.0               \n",
            "qtconsole                4.4.3                \n",
            "regex                    2018.1.10            \n",
            "requests                 2.21.0               \n",
            "requests-oauthlib        1.2.0                \n",
            "resampy                  0.2.1                \n",
            "retrying                 1.3.3                \n",
            "rpy2                     2.9.5                \n",
            "rsa                      4.0                  \n",
            "s3fs                     0.2.1                \n",
            "s3transfer               0.2.0                \n",
            "scikit-image             0.14.2               \n",
            "scikit-learn             0.20.3               \n",
            "scipy                    1.2.1                \n",
            "screen-resolution-extra  0.0.0                \n",
            "scs                      2.1.0                \n",
            "seaborn                  0.9.0                \n",
            "Send2Trash               1.5.0                \n",
            "setuptools               41.0.1               \n",
            "setuptools-git           1.2                  \n",
            "Shapely                  1.6.4.post2          \n",
            "simplegeneric            0.8.1                \n",
            "six                      1.12.0               \n",
            "sklearn                  0.0                  \n",
            "smart-open               1.8.3                \n",
            "snowballstemmer          1.2.1                \n",
            "sortedcontainers         2.1.0                \n",
            "spacy                    2.0.18               \n",
            "Sphinx                   1.8.5                \n",
            "sphinxcontrib-websupport 1.1.0                \n",
            "SQLAlchemy               1.3.3                \n",
            "sqlparse                 0.3.0                \n",
            "stable-baselines         2.2.1                \n",
            "statsmodels              0.9.0                \n",
            "sympy                    1.1.1                \n",
            "tables                   3.4.4                \n",
            "tabulate                 0.8.3                \n",
            "tblib                    1.3.2                \n",
            "tensor2tensor            1.11.0               \n",
            "tensorboard              1.13.1               \n",
            "tensorboardcolab         0.0.22               \n",
            "tensorflow               1.13.1               \n",
            "tensorflow-estimator     1.13.0               \n",
            "tensorflow-hub           0.4.0                \n",
            "tensorflow-metadata      0.13.0               \n",
            "tensorflow-probability   0.6.0                \n",
            "termcolor                1.1.0                \n",
            "terminado                0.8.2                \n",
            "testpath                 0.4.2                \n",
            "text-unidecode           1.2                  \n",
            "textblob                 0.15.3               \n",
            "textgenrnn               1.4.1                \n",
            "tfds-nightly             1.0.2.dev201904290105\n",
            "tflearn                  0.3.2                \n",
            "Theano                   1.0.4                \n",
            "thinc                    6.12.1               \n",
            "toolz                    0.9.0                \n",
            "torch                    1.0.1.post2          \n",
            "torchsummary             1.5.1                \n",
            "torchtext                0.3.1                \n",
            "torchvision              0.2.2.post3          \n",
            "tornado                  4.5.3                \n",
            "tqdm                     4.28.1               \n",
            "traitlets                4.3.2                \n",
            "tweepy                   3.6.0                \n",
            "typing                   3.6.6                \n",
            "tzlocal                  1.5.1                \n",
            "ujson                    1.35                 \n",
            "umap-learn               0.3.8                \n",
            "uritemplate              3.0.0                \n",
            "urllib3                  1.24.2               \n",
            "vega-datasets            0.7.0                \n",
            "wcwidth                  0.1.7                \n",
            "webencodings             0.5.1                \n",
            "Werkzeug                 0.15.2               \n",
            "wheel                    0.33.1               \n",
            "widgetsnbextension       3.4.2                \n",
            "wordcloud                1.5.0                \n",
            "wrapt                    1.10.11              \n",
            "xarray                   0.11.3               \n",
            "xgboost                  0.82                 \n",
            "xkit                     0.0.0                \n",
            "xlrd                     1.1.0                \n",
            "xlwt                     1.3.0                \n",
            "yellowbrick              0.9.1                \n",
            "zict                     0.1.4                \n",
            "zmq                      0.0.0                \n"
          ],
          "name": "stdout"
        }
      ]
    },
    {
      "cell_type": "code",
      "metadata": {
        "id": "pQUJQbuAjMVA",
        "colab_type": "code",
        "outputId": "eae88e44-087f-4976-f765-bc92bbe2e7e6",
        "colab": {
          "base_uri": "https://localhost:8080/",
          "height": 742
        }
      },
      "source": [
        "!pip install tensorflow==1.11.0\n",
        "#!pip install tensorflow==1.13.1\n",
        "#!pip install keras --upgrade"
      ],
      "execution_count": 0,
      "outputs": [
        {
          "output_type": "stream",
          "text": [
            "Collecting tensorflow==1.11.0\n",
            "\u001b[?25l  Downloading https://files.pythonhosted.org/packages/ce/d5/38cd4543401708e64c9ee6afa664b936860f4630dd93a49ab863f9998cd2/tensorflow-1.11.0-cp36-cp36m-manylinux1_x86_64.whl (63.0MB)\n",
            "\u001b[K     |████████████████████████████████| 63.0MB 520kB/s \n",
            "\u001b[?25hRequirement already satisfied: gast>=0.2.0 in /usr/local/lib/python3.6/dist-packages (from tensorflow==1.11.0) (0.2.2)\n",
            "Requirement already satisfied: six>=1.10.0 in /usr/local/lib/python3.6/dist-packages (from tensorflow==1.11.0) (1.12.0)\n",
            "Requirement already satisfied: keras-preprocessing>=1.0.3 in /usr/local/lib/python3.6/dist-packages (from tensorflow==1.11.0) (1.0.9)\n",
            "Requirement already satisfied: keras-applications>=1.0.5 in /usr/local/lib/python3.6/dist-packages (from tensorflow==1.11.0) (1.0.7)\n",
            "Requirement already satisfied: astor>=0.6.0 in /usr/local/lib/python3.6/dist-packages (from tensorflow==1.11.0) (0.7.1)\n",
            "Collecting tensorboard<1.12.0,>=1.11.0 (from tensorflow==1.11.0)\n",
            "\u001b[?25l  Downloading https://files.pythonhosted.org/packages/9b/2f/4d788919b1feef04624d63ed6ea45a49d1d1c834199ec50716edb5d310f4/tensorboard-1.11.0-py3-none-any.whl (3.0MB)\n",
            "\u001b[K     |████████████████████████████████| 3.0MB 30.7MB/s \n",
            "\u001b[?25hRequirement already satisfied: grpcio>=1.8.6 in /usr/local/lib/python3.6/dist-packages (from tensorflow==1.11.0) (1.15.0)\n",
            "Requirement already satisfied: wheel>=0.26 in /usr/local/lib/python3.6/dist-packages (from tensorflow==1.11.0) (0.33.1)\n",
            "Collecting setuptools<=39.1.0 (from tensorflow==1.11.0)\n",
            "\u001b[?25l  Downloading https://files.pythonhosted.org/packages/8c/10/79282747f9169f21c053c562a0baa21815a8c7879be97abd930dbcf862e8/setuptools-39.1.0-py2.py3-none-any.whl (566kB)\n",
            "\u001b[K     |████████████████████████████████| 573kB 40.3MB/s \n",
            "\u001b[?25hRequirement already satisfied: protobuf>=3.6.0 in /usr/local/lib/python3.6/dist-packages (from tensorflow==1.11.0) (3.7.1)\n",
            "Requirement already satisfied: absl-py>=0.1.6 in /usr/local/lib/python3.6/dist-packages (from tensorflow==1.11.0) (0.7.1)\n",
            "Requirement already satisfied: termcolor>=1.1.0 in /usr/local/lib/python3.6/dist-packages (from tensorflow==1.11.0) (1.1.0)\n",
            "Requirement already satisfied: numpy>=1.13.3 in /usr/local/lib/python3.6/dist-packages (from tensorflow==1.11.0) (1.16.3)\n",
            "Requirement already satisfied: h5py in /usr/local/lib/python3.6/dist-packages (from keras-applications>=1.0.5->tensorflow==1.11.0) (2.8.0)\n",
            "Requirement already satisfied: werkzeug>=0.11.10 in /usr/local/lib/python3.6/dist-packages (from tensorboard<1.12.0,>=1.11.0->tensorflow==1.11.0) (0.15.2)\n",
            "Requirement already satisfied: markdown>=2.6.8 in /usr/local/lib/python3.6/dist-packages (from tensorboard<1.12.0,>=1.11.0->tensorflow==1.11.0) (3.1)\n",
            "\u001b[31mERROR: magenta 0.3.19 has requirement tensorflow>=1.12.0, but you'll have tensorflow 1.11.0 which is incompatible.\u001b[0m\n",
            "\u001b[31mERROR: datascience 0.10.6 has requirement folium==0.2.1, but you'll have folium 0.8.3 which is incompatible.\u001b[0m\n",
            "Installing collected packages: tensorboard, setuptools, tensorflow\n",
            "  Found existing installation: tensorboard 1.13.1\n",
            "    Uninstalling tensorboard-1.13.1:\n",
            "      Successfully uninstalled tensorboard-1.13.1\n",
            "  Found existing installation: setuptools 41.0.1\n",
            "    Uninstalling setuptools-41.0.1:\n",
            "      Successfully uninstalled setuptools-41.0.1\n",
            "  Found existing installation: tensorflow 1.13.1\n",
            "    Uninstalling tensorflow-1.13.1:\n",
            "      Successfully uninstalled tensorflow-1.13.1\n",
            "Successfully installed setuptools-39.1.0 tensorboard-1.11.0 tensorflow-1.11.0\n"
          ],
          "name": "stdout"
        },
        {
          "output_type": "display_data",
          "data": {
            "application/vnd.colab-display-data+json": {
              "pip_warning": {
                "packages": [
                  "pkg_resources"
                ]
              }
            }
          },
          "metadata": {
            "tags": []
          }
        }
      ]
    },
    {
      "cell_type": "code",
      "metadata": {
        "id": "DLRENFJwcjit",
        "colab_type": "code",
        "outputId": "d44820f0-f894-438c-fd05-aaaf795a619d",
        "colab": {
          "base_uri": "https://localhost:8080/",
          "height": 34
        }
      },
      "source": [
        "!ls -ld \"/content/drive/My Drive/\""
      ],
      "execution_count": 0,
      "outputs": [
        {
          "output_type": "stream",
          "text": [
            "drwx------ 11 root root 4096 May  2 12:46 '/content/drive/My Drive/'\n"
          ],
          "name": "stdout"
        }
      ]
    },
    {
      "cell_type": "code",
      "metadata": {
        "id": "FjACQT3VdNnv",
        "colab_type": "code",
        "outputId": "d120e979-059e-4244-ffec-cdaaf6858584",
        "colab": {
          "base_uri": "https://localhost:8080/",
          "height": 34
        }
      },
      "source": [
        "#!ls -ld \"/content/drive/My Drive/data/hcpe\"\n",
        "#!ls -ld \"/content/drive/My Drive/data/pickle\"\n",
        "!ls -l \"/content/drive/My Drive/floodgate/floodgate.zip\""
      ],
      "execution_count": 0,
      "outputs": [
        {
          "output_type": "stream",
          "text": [
            "-rw------- 1 root root 2530158528 May  1 05:46 '/content/drive/My Drive/floodgate/floodgate.zip'\n"
          ],
          "name": "stdout"
        }
      ]
    },
    {
      "cell_type": "code",
      "metadata": {
        "id": "mBXH0d32tfp-",
        "colab_type": "code",
        "colab": {}
      },
      "source": [
        "!cp -p \"/content/drive/My Drive/floodgate/floodgate.zip\" ~/"
      ],
      "execution_count": 0,
      "outputs": []
    },
    {
      "cell_type": "code",
      "metadata": {
        "id": "hu6mkA_Vtf5r",
        "colab_type": "code",
        "outputId": "82781b74-5db7-4920-ca2f-187ead7bc9d6",
        "colab": {
          "base_uri": "https://localhost:8080/",
          "height": 34
        }
      },
      "source": [
        "!ls -l ~/floodgate.zip"
      ],
      "execution_count": 0,
      "outputs": [
        {
          "output_type": "stream",
          "text": [
            "-rw------- 1 root root 2530158528 May  1 05:46 /root/floodgate.zip\n"
          ],
          "name": "stdout"
        }
      ]
    },
    {
      "cell_type": "code",
      "metadata": {
        "id": "3pOyuS_wtnM0",
        "colab_type": "code",
        "outputId": "d1e36068-b624-40c7-98e4-af0756fd0333",
        "colab": {
          "base_uri": "https://localhost:8080/",
          "height": 34
        }
      },
      "source": [
        "%cd\n",
        "!unzip ~/floodgate.zip > /dev/null 2>&1"
      ],
      "execution_count": 0,
      "outputs": [
        {
          "output_type": "stream",
          "text": [
            "/root\n"
          ],
          "name": "stdout"
        }
      ]
    },
    {
      "cell_type": "code",
      "metadata": {
        "id": "aG9GmGoDtsM9",
        "colab_type": "code",
        "outputId": "ab910cfc-ede1-4f9c-893c-f1c4cbd0ab62",
        "colab": {
          "base_uri": "https://localhost:8080/",
          "height": 193
        }
      },
      "source": [
        "!ls -l ~/floodgate"
      ],
      "execution_count": 0,
      "outputs": [
        {
          "output_type": "stream",
          "text": [
            "total 76216\n",
            "drwxr-xr-x 2 root root  9240576 Dec 29 13:20 2011\n",
            "drwxr-xr-x 2 root root 12103680 Dec 29 13:37 2012\n",
            "drwxr-xr-x 2 root root 12713984 Dec 29 13:54 2013\n",
            "drwxr-xr-x 2 root root  9920512 Dec 28 23:17 2014\n",
            "drwxr-xr-x 2 root root  9482240 Dec 28 23:29 2015\n",
            "drwxr-xr-x 2 root root  8732672 Dec 28 23:38 2016\n",
            "drwxr-xr-x 2 root root  8814592 Dec 28 23:49 2017\n",
            "drwxr-xr-x 2 root root  5443584 Dec 29 03:17 2018\n",
            "drwxr-xr-x 2 root root  1552384 May  1 13:30 2019\n"
          ],
          "name": "stdout"
        }
      ]
    },
    {
      "cell_type": "code",
      "metadata": {
        "id": "wfkvb3P18Bab",
        "colab_type": "code",
        "outputId": "5a4cde30-6b95-455f-ed2d-97ef74351902",
        "colab": {
          "base_uri": "https://localhost:8080/",
          "height": 140
        }
      },
      "source": [
        "%cd\n",
        "#!git clone https://github.com/TadaoYamaoka/dlshogi-zero.git\n",
        "!git clone https://github.com/lvisdd/gctshogi-zero.git"
      ],
      "execution_count": 0,
      "outputs": [
        {
          "output_type": "stream",
          "text": [
            "/root\n",
            "Cloning into 'gctshogi-zero'...\n",
            "remote: Enumerating objects: 48, done.\u001b[K\n",
            "remote: Counting objects: 100% (48/48), done.\u001b[K\n",
            "remote: Compressing objects: 100% (35/35), done.\u001b[K\n",
            "remote: Total 48 (delta 16), reused 40 (delta 11), pack-reused 0\u001b[K\n",
            "Unpacking objects: 100% (48/48), done.\n"
          ],
          "name": "stdout"
        }
      ]
    },
    {
      "cell_type": "code",
      "metadata": {
        "id": "BHUWJwIwA2xV",
        "colab_type": "code",
        "outputId": "fcaeebab-1e2f-4b41-be10-44af92226bf6",
        "colab": {
          "base_uri": "https://localhost:8080/",
          "height": 34
        }
      },
      "source": [
        "#%cd ~/dlshogi-zero\n",
        "%cd ~/gctshogi-zero"
      ],
      "execution_count": 0,
      "outputs": [
        {
          "output_type": "stream",
          "text": [
            "/root/gctshogi-zero\n"
          ],
          "name": "stdout"
        }
      ]
    },
    {
      "cell_type": "code",
      "metadata": {
        "id": "tKjXev9B_pim",
        "colab_type": "code",
        "outputId": "b46d58a5-6f38-4276-8fb5-f8e99477dfe8",
        "colab": {
          "base_uri": "https://localhost:8080/",
          "height": 87
        }
      },
      "source": [
        "!pip install --no-cache-dir -e ."
      ],
      "execution_count": 0,
      "outputs": [
        {
          "output_type": "stream",
          "text": [
            "Obtaining file:///root/gctshogi-zero\n",
            "Installing collected packages: gctshogi-zero\n",
            "  Running setup.py develop for gctshogi-zero\n",
            "Successfully installed gctshogi-zero\n"
          ],
          "name": "stdout"
        }
      ]
    },
    {
      "cell_type": "code",
      "metadata": {
        "id": "XieqaY5y_azX",
        "colab_type": "code",
        "outputId": "5cce6790-041d-494a-cd97-f3a2b9bdaa84",
        "colab": {
          "base_uri": "https://localhost:8080/",
          "height": 34
        }
      },
      "source": [
        "!pip install cython"
      ],
      "execution_count": 0,
      "outputs": [
        {
          "output_type": "stream",
          "text": [
            "Requirement already satisfied: cython in /usr/local/lib/python3.6/dist-packages (0.29.7)\n"
          ],
          "name": "stdout"
        }
      ]
    },
    {
      "cell_type": "code",
      "metadata": {
        "id": "YPmgWpRO_f_0",
        "colab_type": "code",
        "outputId": "4624a1d9-9e34-4be7-9e6f-149bfd7550e6",
        "colab": {
          "base_uri": "https://localhost:8080/",
          "height": 175
        }
      },
      "source": [
        "!pip install git+https://github.com/TadaoYamaoka/cshogi --no-cache-dir"
      ],
      "execution_count": 0,
      "outputs": [
        {
          "output_type": "stream",
          "text": [
            "Collecting git+https://github.com/TadaoYamaoka/cshogi\n",
            "  Cloning https://github.com/TadaoYamaoka/cshogi to /tmp/pip-req-build-naok_y3v\n",
            "  Running command git clone -q https://github.com/TadaoYamaoka/cshogi /tmp/pip-req-build-naok_y3v\n",
            "Building wheels for collected packages: cshogi\n",
            "  Building wheel for cshogi (setup.py) ... \u001b[?25l\u001b[?25hdone\n",
            "  Stored in directory: /tmp/pip-ephem-wheel-cache-rb1033xe/wheels/1c/02/82/272c03ba6487932d6eb5be82b2cf35a5c29cc29b77128f1a8e\n",
            "Successfully built cshogi\n",
            "Installing collected packages: cshogi\n",
            "Successfully installed cshogi-0.0.0\n"
          ],
          "name": "stdout"
        }
      ]
    },
    {
      "cell_type": "code",
      "metadata": {
        "id": "98hdWrkdqrCv",
        "colab_type": "code",
        "outputId": "2e4f41f1-9ebb-4ae7-be97-c31937ab8cee",
        "colab": {
          "base_uri": "https://localhost:8080/",
          "height": 175
        }
      },
      "source": [
        "!pip install git+https://github.com/lvisdd/python-shogi.git --no-cache-dir"
      ],
      "execution_count": 0,
      "outputs": [
        {
          "output_type": "stream",
          "text": [
            "Collecting git+https://github.com/lvisdd/python-shogi.git\n",
            "  Cloning https://github.com/lvisdd/python-shogi.git to /tmp/pip-req-build-yp9sjh9q\n",
            "  Running command git clone -q https://github.com/lvisdd/python-shogi.git /tmp/pip-req-build-yp9sjh9q\n",
            "Building wheels for collected packages: python-shogi\n",
            "  Building wheel for python-shogi (setup.py) ... \u001b[?25l\u001b[?25hdone\n",
            "  Stored in directory: /tmp/pip-ephem-wheel-cache-23m44no8/wheels/43/06/19/15241b98857506fb852baecaa3029cb442886b87a30484a47c\n",
            "Successfully built python-shogi\n",
            "Installing collected packages: python-shogi\n",
            "Successfully installed python-shogi-0.0.0\n"
          ],
          "name": "stdout"
        }
      ]
    },
    {
      "cell_type": "code",
      "metadata": {
        "id": "KoByM6JexrZQ",
        "colab_type": "code",
        "colab": {}
      },
      "source": [
        "#%%bash\n",
        "#data_dir=\"/root/floodgate\"\n",
        "#save_dir=\"/content/drive/My Drive/gctshogi-zero/model\"\n",
        "#\n",
        "#echo \"2011\" > \"${save_dir}/year.txt\"\n",
        "#num=$(cat \"${save_dir}/number.txt\")\n",
        "#year=$(cat \"${save_dir}/year.txt\")\n",
        "#\n",
        "#src=`printf \"%03d\" ${num}`\n",
        "#dst=`printf \"%04d\" ${year}`\n",
        "#\n",
        "#echo \"[${dst}]\"\n",
        "#python ./utils/prepare_kifu_list.py \"${data_dir}/${dst}\" kifulist\n",
        "#python ./train_from_csa.py kifulist_train.txt kifulist_test.txt \"${save_dir}/model-${dst}.h5\" --batchsize 1024 --use_tpu --resume \"${save_dir}/model-${src}.h5\" >/dev/null 2>&1\n",
        "#"
      ],
      "execution_count": 0,
      "outputs": []
    },
    {
      "cell_type": "code",
      "metadata": {
        "id": "slg6MC3Gkheh",
        "colab_type": "code",
        "outputId": "0b5ce698-e8a5-4e0f-a676-a3bc20fbb2ac",
        "colab": {
          "base_uri": "https://localhost:8080/",
          "height": 158
        }
      },
      "source": [
        "!perl -pi.bak -e \"s|18|5|g;s|256|192|g\" ./gctshogi/network/policy_value_resnet.py\n",
        "!diff ./gctshogi/network/policy_value_resnet.py.bak ./gctshogi/network/policy_value_resnet.py"
      ],
      "execution_count": 0,
      "outputs": [
        {
          "output_type": "stream",
          "text": [
            "16,18c16,18\n",
            "< RES_BLOCKS = 18\n",
            "< FILTERS = 256\n",
            "< FCL_UNITS = 256\n",
            "---\n",
            "> RES_BLOCKS = 5\n",
            "> FILTERS = 192\n",
            "> FCL_UNITS = 192\n"
          ],
          "name": "stdout"
        }
      ]
    },
    {
      "cell_type": "code",
      "metadata": {
        "id": "QEhN-bzXkXBn",
        "colab_type": "code",
        "outputId": "12416234-27a3-4823-cfca-ca41c4fe6ae5",
        "colab": {
          "base_uri": "https://localhost:8080/",
          "height": 34
        }
      },
      "source": [
        "%%bash\n",
        "data_dir=\"/root/floodgate\"\n",
        "save_dir=\"/content/drive/My Drive/gctshogi-zero/model\"\n",
        "\n",
        "echo \"2011\" > \"${save_dir}/year.txt\"\n",
        "num=$(cat \"${save_dir}/number.txt\")\n",
        "year=$(cat \"${save_dir}/year.txt\")\n",
        "\n",
        "src=`printf \"%03d\" ${num}`\n",
        "dst=`printf \"%04d\" ${year}`\n",
        "\n",
        "echo \"[${dst}]\"\n",
        "python ./utils/prepare_kifu_list.py \"${data_dir}/${dst}\" kifulist\n",
        "# python ./train_from_csa.py kifulist_train.txt kifulist_test.txt \"${save_dir}/model-${dst}.h5\" --batchsize 1024 --use_tpu --resume \"${save_dir}/model-${src}.h5\" >/dev/null 2>&1\n",
        "python ./train_from_csa.py kifulist_train.txt kifulist_test.txt \"${save_dir}/model-${dst}.h5\" --batchsize 1024 --use_tpu >/dev/null 2>&1\n"
      ],
      "execution_count": 0,
      "outputs": [
        {
          "output_type": "stream",
          "text": [
            "[2011]\n"
          ],
          "name": "stdout"
        }
      ]
    },
    {
      "cell_type": "code",
      "metadata": {
        "id": "iNIXMsWMITrM",
        "colab_type": "code",
        "colab": {}
      },
      "source": [
        "%%bash\n",
        "data_dir=\"/root/floodgate\"\n",
        "save_dir=\"/content/drive/My Drive/gctshogi-zero/model\"\n",
        "\n",
        "year=$(cat \"${save_dir}/year.txt\")\n",
        "max=$((year+8))\n",
        "\n",
        "# for i in $(seq 0 4); do\n",
        "for ((i=${year}; i < ${max}; i++)); do\n",
        "    src=`printf \"%04d\" $i`\n",
        "    dst=`printf \"%04d\" $((i+1))`\n",
        "    echo \"[${dst}]\"\n",
        "    python ./utils/prepare_kifu_list.py \"${data_dir}/${dst}\" kifulist\n",
        "    python ./train_from_csa.py kifulist_train.txt kifulist_test.txt \"${save_dir}/model-${dst}.h5\" --batchsize 1024 --use_tpu --resume \"${save_dir}/model-${src}.h5\" >/dev/null 2>&1\n",
        "    printf \"%d\" $((i+1)) > \"${save_dir}/year.txt\"\n",
        "done\n"
      ],
      "execution_count": 0,
      "outputs": []
    },
    {
      "cell_type": "markdown",
      "metadata": {
        "id": "guIouoBMAeUC",
        "colab_type": "text"
      },
      "source": [
        ""
      ]
    }
  ]
}